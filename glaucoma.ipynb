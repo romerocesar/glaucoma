{
 "cells": [
  {
   "cell_type": "code",
   "execution_count": 15,
   "id": "5d4e8a67-930a-406f-a4c0-cead3543aa72",
   "metadata": {
    "tags": []
   },
   "outputs": [],
   "source": [
    "import cv2 as cv\n",
    "from IPython.display import display\n",
    "import numpy as np\n",
    "from PIL import Image"
   ]
  },
  {
   "cell_type": "code",
   "execution_count": 3,
   "id": "7409e26e-82fb-4778-9764-518fdaf03cef",
   "metadata": {
    "tags": []
   },
   "outputs": [
    {
     "name": "stdout",
     "output_type": "stream",
     "text": [
      "--2023-02-15 22:20:37--  https://docs.opencv.org/4.x/opencv-logo-small.png\n",
      "Loaded CA certificate '/etc/ssl/certs/ca-certificates.crt'\n",
      "Resolving docs.opencv.org (docs.opencv.org)... 104.21.24.86, 172.67.218.21, 2606:4700:3033::6815:1856, ...\n",
      "Connecting to docs.opencv.org (docs.opencv.org)|104.21.24.86|:443... connected.\n",
      "HTTP request sent, awaiting response... 200 OK\n",
      "Length: 2155 (2.1K) [image/png]\n",
      "Saving to: ‘opencv-logo-small.png’\n",
      "\n",
      "opencv-logo-small.p 100%[===================>]   2.10K  --.-KB/s    in 0s      \n",
      "\n",
      "2023-02-15 22:20:37 (59.2 MB/s) - ‘opencv-logo-small.png’ saved [2155/2155]\n",
      "\n"
     ]
    }
   ],
   "source": [
    "!wget https://docs.opencv.org/4.x/opencv-logo-small.png"
   ]
  },
  {
   "cell_type": "code",
   "execution_count": 12,
   "id": "56a3d83a-4991-4980-9038-914775501e4e",
   "metadata": {
    "tags": []
   },
   "outputs": [
    {
     "data": {
      "image/png": "[encoded data removed]",
      "text/plain": [
       "<PIL.Image.Image image mode=RGB size=54x50>"
      ]
     },
     "metadata": {},
     "output_type": "display_data"
    }
   ],
   "source": [
    "img = cv.imread('opencv-logo-small.png')\n",
    "img = cv.cvtColor(img, cv.COLOR_BGR2RGB)\n",
    "display(Image.fromarray(img))"
   ]
  },
  {
   "cell_type": "markdown",
   "id": "4fd2ad12-17ac-437f-bb9e-b6436ec4d256",
   "metadata": {},
   "source": [
    "| transformation | accuruacy |\n",
    "| ----------- | ----------- |\n",
    "| none      | 0.575       |\n",
    "| projection only   | 0.6        |\n",
    "| smoothing only | 0.65|\n",
    "| sharpening only | 0.525|\n",
    "| clahe+fft+normalize | 0.625|\n",
    "| inpaint only|0.5757|\n",
    "| close only|0.725|\n",
    "|dilate only|0.75|\n",
    "|dilate+inpaint|0.77|\n",
    "|clahe only|0.575|\n",
    "|dilate+inpaint+clahe|0.694|\n",
    "|dilate+inpaint+project|0.7|\n",
    "|dilate+inpaint+bilateral|0.675|\n",
    "|dilate+inpaint+bilat+clahe|0.7|\n",
    "|dilate+inpaint+clahe gr|0.725|\n",
    "\n",
    "- the inpaint only is drawing a lot of wrong circles so the args have to be tuned\n",
    "- smoothing currently means erosion+dialation+bilateralfilter"
   ]
  },
  {
   "cell_type": "markdown",
   "id": "c14044e7-62b0-4e72-9bd5-d07e0146d878",
   "metadata": {},
   "source": [
    "dilate is working but leaves tiny artifacts behind which clahe picks up and amplifies\n",
    "\n",
    "todo:\n",
    "- what if we don't apply clahe to blue? we got a \n",
    "- what id we apply clahe with different args to different channels?\n",
    "- dialate twice?\n",
    "- dialate with larger kernel?\n",
    "- global histogram equalizer\n",
    "- should we try gaussian or bilateral smoothing after dilate+inpaint but before clahe?"
   ]
  },
  {
   "cell_type": "markdown",
   "id": "ac7a6341-7ea9-4009-bdf1-9f6d1f93f680",
   "metadata": {},
   "source": [
    "- why was clahe only applied to b and g but not r?\n",
    "- why are fft and normalize together in a single transformation?\n",
    "- why was fft+normalize applied only to g and r but not b?\n",
    "- inpainting struggles whenever applied before cleaning the salt and pepper noise"
   ]
  }
 ],
 "metadata": {
  "kernelspec": {
   "display_name": "Python 3 (ipykernel)",
   "language": "python",
   "name": "python3"
  },
  "language_info": {
   "codemirror_mode": {
    "name": "ipython",
    "version": 3
   },
   "file_extension": ".py",
   "mimetype": "text/x-python",
   "name": "python",
   "nbconvert_exporter": "python",
   "pygments_lexer": "ipython3",
   "version": "3.10.9"
  }
 },
 "nbformat": 4,
 "nbformat_minor": 5
}
